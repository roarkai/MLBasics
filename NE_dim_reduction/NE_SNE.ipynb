{
 "cells": [
  {
   "cell_type": "markdown",
   "id": "91ab03aa",
   "metadata": {},
   "source": [
    "# NE and SNE"
   ]
  },
  {
   "cell_type": "markdown",
   "id": "ae71c622",
   "metadata": {},
   "source": [
    "## I. NE(Neighborhood Embeddings)\n"
   ]
  },
  {
   "cell_type": "markdown",
   "id": "0b717d2f",
   "metadata": {},
   "source": []
  },
  {
   "cell_type": "markdown",
   "id": "61a93bd9",
   "metadata": {},
   "source": []
  },
  {
   "cell_type": "markdown",
   "id": "c583a204",
   "metadata": {},
   "source": []
  },
  {
   "cell_type": "markdown",
   "id": "f760d9ef",
   "metadata": {},
   "source": []
  },
  {
   "cell_type": "markdown",
   "id": "1bb9116d",
   "metadata": {},
   "source": []
  }
 ],
 "metadata": {
  "kernelspec": {
   "display_name": "Python 3 (ipykernel)",
   "language": "python",
   "name": "python3"
  },
  "language_info": {
   "codemirror_mode": {
    "name": "ipython",
    "version": 3
   },
   "file_extension": ".py",
   "mimetype": "text/x-python",
   "name": "python",
   "nbconvert_exporter": "python",
   "pygments_lexer": "ipython3",
   "version": "3.10.14"
  }
 },
 "nbformat": 4,
 "nbformat_minor": 5
}
