{
 "cells": [
  {
   "cell_type": "markdown",
   "id": "c170a249",
   "metadata": {},
   "source": [
    "# 随机向量的协方差矩阵"
   ]
  },
  {
   "cell_type": "markdown",
   "id": "d9fda540-11a1-470e-9a70-ddf3174610a8",
   "metadata": {},
   "source": [
    "### I. 符号\n",
    "假设：多维随机变量x，维度为d，样本数量为n。\n",
    "1. 随机向量可以表示为列向量：\n",
    "$$X = (X_1, X_2, ..., X_k, ..., X_d)^T$$\n",
    "2. 随机向量的样本：\n",
    "<font color=red>注：样本的排序和向量不同，单个样本是一个行向量。这样处理是为了和pytorch中一致。</font>\n",
    "$$Sample_n = \\begin{pmatrix}\n",
    "－& x_{\\cdot 1} & －\\\\\n",
    "－& x_{\\cdot 2} & －\\\\\n",
    "&  ...   &  \\\\\n",
    "－& x_{\\cdot i} & －\\\\\n",
    "&  ...   & \\\\\n",
    "－& x_{\\cdot n} & －  \n",
    "\\end{pmatrix}$$\n",
    "$$x_{\\cdot i} = (x_{1i}, x_{2i}, ..., x_{di}) ，表示第i个样本，简记为x_i$$\n",
    "$$x_{k\\cdot } = \\begin{pmatrix}\n",
    "x_{k1} \\\\\n",
    "x_{k2}  \\\\\n",
    "... \\\\\n",
    "x_{kn} \n",
    "\\end{pmatrix}， 表示第k个维度的所有样本$$"
   ]
  },
  {
   "cell_type": "markdown",
   "id": "691e9705-ae4f-4b65-aa82-f8373443a7fa",
   "metadata": {},
   "source": [
    "### II. 随机变量(X是scalar)的方差\n",
    "$k\\in (1, d), j\\in (1, d)$是x中两个不同维度的index。有$$\\begin{align}\n",
    "Var(X_k) &=E(X_k-E(X_k))^2   \\\\\n",
    "估计量&：\\frac{1}{n}{\\textstyle \\sum_{i=i}^{n}} (x_{ki}-\\bar x_k)^2 \\\\\n",
    "\\\\\n",
    "Cov(X_k, X_j) &= E(X_k-E(X_k))(X_j-E(X_j)) \\\\\n",
    "估计量&： \\frac{1}{n}{\\textstyle \\sum_{i=i}^{n}} (x_{ki}-\\bar x_k)(x_{ji}-\\bar x_j)\\\\ \n",
    "\\end{align}$$"
   ]
  },
  {
   "cell_type": "markdown",
   "id": "24b4c5a4",
   "metadata": {},
   "source": [
    "### III. 随机向量的方差和协方差矩阵\n",
    "随机向量的协方差矩阵（covariance matrix：Cov(X)）也称为随机变量的方差（Variance of random vector x: Var(X)，统一记为：S \\\n",
    "<font color=red>协方差矩阵也称随机向量的方差，因为它是将随机变量的方差概念一般化到随机向量而得到的结果。</font>\n",
    "#### 1. 定义\n",
    "a square matrix giving the covariance between each pair of elements of a given random vector. \n",
    "$$\\begin{align}\n",
    "S & = \\begin{pmatrix}\n",
    " Var(X_1) & Cov(X_1,X_2)  &  ... & Cov(X_1,X_d)\\\\\n",
    " Cov(X_2,X_1) &  Var(X_2)  &  ... & Cov(X_2,X_d)\\\\\n",
    " ... &  ... &  ... & ...\\\\\n",
    " Cov(X_k,X_1) & Cov(X_k,X_2) &   ... & Cov(X_k,X_d)\\\\\n",
    " ... & ... &  ... & ...\\\\\n",
    " Cov(X_d,X_1) & Cov(X_d,X_2) & ... & Var(X_d)\n",
    "\\end{pmatrix}\\\\\n",
    "\\\\\n",
    "& = E\\begin{pmatrix}\n",
    " (X_1-EX_1)(X_1-EX_1) & (X_1-EX_1)(X_2-EX_2) &  ... & (X_1-EX_1)(X_d-EX_d)\\\\\n",
    " (X_2-EX_2)(X_1-EX_1) & (X_2-EX_2)(X_2-EX_2) &  ... & (X_2-EX_2)(X_d-EX_d)\\\\\n",
    " ... &  ... &  ... & ...\\\\\n",
    " (X_k-EX_k)(X_1-EX_1) & (X_k-EX_k)(X_2-EX_2) &   ... & (X_k-EX_k)(X_d-EX_d)\\\\\n",
    " ... & ... &  ... & ...\\\\\n",
    " (X_d-EX_d)(X_1-EX_1) & (X_d-EX_d)(X_2-EX_2) & ... & (X_d-EX_d)(X_d-EX_d)\n",
    "\\end{pmatrix}\\\\\n",
    "\\\\\n",
    "& = E\\left ( \\begin{pmatrix}\n",
    "(X_1-EX_1) \\\\\n",
    "(X_2-EX_2) \\\\\n",
    " ...\\\\\n",
    "(X_d-EX_d)\n",
    "\\end{pmatrix} * ((X_1-EX_1), (X_2-EX_2), ..., (X_d-EX_d))\\right ) \\\\\n",
    "& = E(X-EX)(X-EX)^T\n",
    "\\end{align}$$\n"
   ]
  },
  {
   "cell_type": "markdown",
   "id": "a6f0101b-e5e7-4129-bbc9-dbd3c7a67dba",
   "metadata": {},
   "source": [
    "#### 2. 统计量：样本方差矩阵\n",
    "$$\\begin{align}\n",
    "S_n & = \\begin{pmatrix}\n",
    " Var(X_1) & Cov(X_1,X_2)  &  ... & Cov(X_1,X_d)\\\\\n",
    " Cov(X_2,X_1) &  Var(X_2)  &  ... & Cov(X_2,X_d)\\\\\n",
    " ... &  ... &  ... & ...\\\\\n",
    " Cov(X_d,X_1) & Cov(X_d,X_2) & ... & Var(X_d)\n",
    "\\end{pmatrix} \\\\\n",
    "\\\\\n",
    "& = \\begin{pmatrix}\n",
    "\\frac{1}{n} {\\textstyle \\sum_{i}^{}} (x_{1i}-\\bar x_1)(x_{1i}-\\bar x_1)& \\frac{1}{n} {\\textstyle \\sum_{i}^{}} (x_{1i}-\\bar x_1)(x_{2i}-\\bar x_2)  &  ... &\\frac{1}{n}{\\textstyle \\sum_{i}^{}} (x_{1i}-\\bar x_1)(x_{di}-\\bar x_d)\\\\\n",
    "\\frac{1}{n} {\\textstyle \\sum_{i}^{}} (x_{2i}-\\bar x_2)(x_{1i}-\\bar x_1)&  \\frac{1}{n} {\\textstyle \\sum_{i}^{}} (x_{2i}-\\bar x_2)^(x_{2i}-\\bar x_2)  &  ... &\\frac{1}{n}{\\textstyle \\sum_{i}^{}} (x_{2i}-\\bar x_2)(x_{di}-\\bar x_d)\\\\\n",
    " ... &  ... &  ... & ...\\\\\n",
    "\\frac{1}{n} {\\textstyle \\sum_{i}^{}} (x_{di}-\\bar x_d)(x_{1i}-\\bar x_1)& \\frac{1}{n} {\\textstyle \\sum_{i}^{}} (x_{di}-\\bar x_d)(x_{2i}-\\bar x_2)  & ... & \\frac{1}{n} {\\textstyle \\sum_{i}^{}} (x_{di}-\\bar x_d)(x_{di}-\\bar x_d)\n",
    "\\end{pmatrix} \\\\\n",
    "\\\\\n",
    "& = \\frac{1}{n}{\\textstyle \\sum_{i}^{}}\\begin{pmatrix}\n",
    " (x_{1i}-\\bar x_1)(x_{1i}-\\bar x_1)&  (x_{1i}-\\bar x_1)(x_{2i}-\\bar x_2)  &  ... &(x_{1i}-\\bar x_1)(x_{di}-\\bar x_d)\\\\\n",
    " (x_{2i}-\\bar x_2)(x_{1i}-\\bar x_1)&  (x_{2i}-\\bar x_2)^(x_{2i}-\\bar x_2)  &  ... &(x_{2i}-\\bar x_2)(x_{di}-\\bar x_d)\\\\\n",
    " ... &  ... &  ... & ...\\\\\n",
    " (x_{di}-\\bar x_d)(x_{1i}-\\bar x_1)& (x_{di}-\\bar x_d)(x_{2i}-\\bar x_2)  & ... & (x_{di}-\\bar x_d)(x_{di}-\\bar x_d)\n",
    "\\end{pmatrix} \n",
    "\\\\\n",
    "& = \\frac{1}{n}{\\textstyle \\sum_{i}^{}}\\begin{pmatrix}\n",
    "(x_{1i}-\\bar x_1) \\\\\n",
    " (x_{2i}-\\bar x_2) \\\\\n",
    " ...\\\\\n",
    " (x_{di}-\\bar x_d)\n",
    "\\end{pmatrix}\\begin{pmatrix}\n",
    " (x_{1i}-\\bar x_1) &  (x_{2i}-\\bar x_2) & ... &  (x_{di}-\\bar x_d)\n",
    "\\end{pmatrix}\n",
    "\\\\\n",
    "& = \\frac{1}{n}{\\textstyle \\sum_{i}^{}}(x_i-\\bar x_i )(x_i-\\bar x_i)^T\n",
    "\\end{align}\n",
    "$$"
   ]
  },
  {
   "cell_type": "markdown",
   "id": "9ffc7405",
   "metadata": {},
   "source": [
    "#### 3. 随机向量(样本)的协方差矩阵的性质\n",
    "<font color=red>下面的S实际上指的是样本方差矩阵，也就是前面的$S_n$</font>\n",
    "1. 对称矩阵S的谱定理（4条）\\\n",
    "① S有n个实特征值 \\\n",
    "② 每个特征值$\\lambda_i$的特征子空间的维数 = $\\lambda_i$作为特征方程$Ax=\\lambda x$的根的重数。 \\\n",
    "③ 不同特征值对应的特征子空间相互正交 \\\n",
    "④ S可以正交对角化"
   ]
  },
  {
   "cell_type": "markdown",
   "id": "bfd8cec6-0080-43f8-a4d0-317fa512f1b5",
   "metadata": {},
   "source": [
    "2. <font color=blue>**S是p维对称矩阵, 因此可以正交对角化：**</font>\n",
    "$$\\begin{align} \n",
    "S_{p*p} & = G^T\\Lambda G \\\\\n",
    "&  =  \\begin{pmatrix}\n",
    " | & | &  & |\\\\\n",
    " g_1 & g_2 & ... & g_p\\\\\n",
    " | & | &  &|\n",
    "\\end{pmatrix}\\begin{pmatrix}\n",
    " \\lambda_1 & 0 & ... & 0  \\\\\n",
    " 0 & \\lambda_2 &  & 0  \\\\\n",
    "  &  & ... &   \\\\\n",
    " 0 & 0 & ... & \\lambda_p  \n",
    "\\end{pmatrix}\\begin{pmatrix}\n",
    "－& g_1^T & －\\\\\n",
    "－& g_2^T &－ \\\\\n",
    "－& ... & \\\\\n",
    "－& g_p^T & － \n",
    "\\end{pmatrix}  \\\\\n",
    "& = \\lambda _1g_1g_1^T + \\lambda _2g_2g_2^T + ... + \\lambda _pg_pg_p^T  \\\\\n",
    "& =  {\\textstyle \\sum_{i=1}^{p}} \\lambda _ig_ig_i^T  \\\\\n",
    "& 其中，G^TG =I_p, \\lambda_1>\\lambda_2>...>\\lambda_p\n",
    "\\end{align}$$"
   ]
  },
  {
   "cell_type": "markdown",
   "id": "be851ec4",
   "metadata": {
    "ExecuteTime": {
     "end_time": "2023-11-23T07:31:26.646735Z",
     "start_time": "2023-11-23T07:31:26.634076Z"
    }
   },
   "source": [
    "3. **center matrix: H** \\\n",
    "取<font color=blue>$H=(I_n-\\frac{1}{n}1_n1_n^T)$</font>，有以下性质：\\\n",
    "<font color=green>a. $\\begin{align}\n",
    "& S = \\frac{1}{n}\\ {\\textstyle \\sum_{i=1}^{n}}(x_i-\\bar x)(x_i-\\bar x)^{T} = \\frac{1}{n}X^THX\n",
    "\\end{align}$ \\\n",
    "b. $H =H^T, H =H^2=H^n$ \\\n",
    "c. $HX=X-\\bar X$，因此，H称为center matrix\n",
    "</font>"
   ]
  }
 ],
 "metadata": {
  "kernelspec": {
   "display_name": "Python 3 (ipykernel)",
   "language": "python",
   "name": "python3"
  },
  "language_info": {
   "codemirror_mode": {
    "name": "ipython",
    "version": 3
   },
   "file_extension": ".py",
   "mimetype": "text/x-python",
   "name": "python",
   "nbconvert_exporter": "python",
   "pygments_lexer": "ipython3",
   "version": "3.10.13"
  }
 },
 "nbformat": 4,
 "nbformat_minor": 5
}
