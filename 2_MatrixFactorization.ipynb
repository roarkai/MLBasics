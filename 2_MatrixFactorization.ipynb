{
 "cells": [
  {
   "cell_type": "markdown",
   "id": "3c6ff70d-abf9-49e9-955f-b04ecae8d05f",
   "metadata": {},
   "source": [
    "# Matrix Factorization"
   ]
  },
  {
   "cell_type": "markdown",
   "id": "9e47b1f6-f78d-4d65-81a0-46ece351f95d",
   "metadata": {},
   "source": [
    "五种典型方法：\n",
    "1. （略）$A=LU$， A是任意矩阵\n",
    "2. （略）QR分解：$A=QR$， A是任意矩阵\n",
    "3. 对称矩阵谱分解：$S=QΛQ^T$， S是对称矩阵\n",
    "4. （略）可逆矩阵分解：$A=XΛX^{-1}$， A是可逆矩阵\n",
    "5. 奇异值分解，SVD：$A=UΣV^T$， A是任意矩阵"
   ]
  },
  {
   "cell_type": "markdown",
   "id": "4a0a4122-4e10-4df9-b29d-3123d6474727",
   "metadata": {},
   "source": [
    "## I. 对称矩阵的谱分解"
   ]
  },
  {
   "cell_type": "markdown",
   "id": "b691ff13-d7a0-4bb6-83a1-84229c737f0d",
   "metadata": {},
   "source": [
    "### I.1 对称矩阵的一些性质\n",
    "#### $\\Diamond $ 对称矩阵的谱定理（4条）\n",
    "S是实对称矩阵，则：\n",
    "1. S有n个实特征值\n",
    "2. 每个特征值$\\lambda_i$的特征子空间的维数 = $\\lambda_i$作为特征方程$Ax=\\lambda x$的根的重数。\n",
    "3. 不同特征值对应的特征子空间相互正交\n",
    "4. S可以正交对角化"
   ]
  },
  {
   "cell_type": "markdown",
   "id": "8e1212c3-85c9-4ce4-b5c0-774abb5187e9",
   "metadata": {},
   "source": [
    "#### $\\Diamond $ <font color=blue>可逆矩阵的对角化和对称矩阵的对角化的**充要条件**对比:</font>\n",
    "1. <font color=blue>矩阵是对称矩阵 $\\overset{i.f.f}{\\rightleftharpoons}$ 矩阵可以正交对角化：$S=Q\\Lambda Q^T$</font>\n",
    "2. <font color=blue>矩阵是可逆矩阵（即矩阵有n个线性无关特征向量）$\\overset{i.f.f}{\\rightleftharpoons}$ 矩阵可以对角化：$A=P\\Lambda P^{-1}$\n",
    "</font>"
   ]
  },
  {
   "cell_type": "markdown",
   "id": "aa2383c3-6e2b-4c38-9122-1fb191227172",
   "metadata": {},
   "source": [
    "### I.2 谱分解\n",
    "对称矩阵S可以正交对角化为：$S=Q\\Lambda Q^T$。\\\n",
    "⑴ $\\Lambda$是对角矩阵，对角线上的元素是S的特征值。Q是特征值对应的特征向量矩阵。 \\\n",
    "⑵ Q是正交单位矩阵"
   ]
  },
  {
   "cell_type": "markdown",
   "id": "32bbb110-90a5-4c62-865a-b19b470d1b10",
   "metadata": {},
   "source": []
  },
  {
   "cell_type": "markdown",
   "id": "7093bbc3-7c05-4f19-87a6-a24737ed9cec",
   "metadata": {},
   "source": []
  },
  {
   "cell_type": "markdown",
   "id": "611a4047-224d-4b4f-a0b4-2aba61f6b352",
   "metadata": {},
   "source": []
  },
  {
   "cell_type": "markdown",
   "id": "c6fae6e3-beaa-4853-babd-88765ded7045",
   "metadata": {},
   "source": []
  },
  {
   "cell_type": "markdown",
   "id": "f3b24318-541a-4f69-a68a-1e57d59730d2",
   "metadata": {},
   "source": []
  },
  {
   "cell_type": "markdown",
   "id": "29e061f7-1e08-4873-9da6-0c6909047bd7",
   "metadata": {},
   "source": []
  },
  {
   "cell_type": "markdown",
   "id": "d0868d6e-b867-4b92-9e28-d1c97860e19c",
   "metadata": {},
   "source": []
  },
  {
   "cell_type": "markdown",
   "id": "a1793211-95e9-4eda-b550-bbe2195c93cc",
   "metadata": {},
   "source": []
  },
  {
   "cell_type": "markdown",
   "id": "481d5751-22ed-43d8-ac8d-826dea180335",
   "metadata": {},
   "source": []
  },
  {
   "cell_type": "markdown",
   "id": "8fc763a0-736e-45d8-af2b-78d527e4c1f1",
   "metadata": {},
   "source": []
  },
  {
   "cell_type": "markdown",
   "id": "2477b948-48f3-45f9-9d67-0477bb12767e",
   "metadata": {},
   "source": []
  }
 ],
 "metadata": {
  "kernelspec": {
   "display_name": "Python 3 (ipykernel)",
   "language": "python",
   "name": "python3"
  },
  "language_info": {
   "codemirror_mode": {
    "name": "ipython",
    "version": 3
   },
   "file_extension": ".py",
   "mimetype": "text/x-python",
   "name": "python",
   "nbconvert_exporter": "python",
   "pygments_lexer": "ipython3",
   "version": "3.10.13"
  }
 },
 "nbformat": 4,
 "nbformat_minor": 5
}
