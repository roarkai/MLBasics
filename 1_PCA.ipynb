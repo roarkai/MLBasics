{
 "cells": [
  {
   "cell_type": "markdown",
   "id": "75dc1015",
   "metadata": {},
   "source": [
    "## I. 核心思想\n",
    "\n",
    "1. 核心思想：将一组可能线性相关的向量，通过正交变换，转换城维度更小的线性无关的向量。\n",
    "2. 本质：特征空间重构\n",
    "3. 解法：**最大投影方差**和**最小重构距离** [不同但数学上等价] \\\n",
    "思路：找原向量具有最大投影方差的方向作为新的特征空间的基。此时，原向量到它们各自在新基上的投影的距离最小。这也意味着，假如将“距离”视为“重构代价”的话，用这些投影，也就是降维后的数据重构原数据的“重构代价”最小。"
   ]
  },
  {
   "cell_type": "markdown",
   "id": "1f56d97b",
   "metadata": {},
   "source": [
    "## II. 求解需要的基础工具"
   ]
  },
  {
   "cell_type": "markdown",
   "id": "68d45e0d",
   "metadata": {},
   "source": [
    "1. **p维对称矩阵的性质**： \\\n",
    "a. 有p个实特征值，可能有重复值，每个特征值对应的特征空间维数=该特征值的重数 \\\n",
    "b. 有p个特征向量，且特征向量相互正交 \\\n",
    "c. 可以正交对角化，相似矩阵对角线上的元素就是对称矩阵的特征值；正交矩阵由p个特征向量构成。"
   ]
  },
  {
   "cell_type": "markdown",
   "id": "c2671e22",
   "metadata": {},
   "source": [
    "2. 样本方差矩阵S\n",
    "$$S = \\frac{1}{n}\\ {\\textstyle \\sum_{i=1}^{n}}(x_i-\\bar x)(x_i-\\bar x)^{T}，x_i是p维向量$$\n",
    "<font color=blue>**S是p维对称矩阵, 因此可以正交对角化：**</font>\n",
    "$$\n",
    "\\begin{align} \n",
    "S_{p*p} & = G^T\\Lambda G \\\\\n",
    "&  =  \\begin{pmatrix}\n",
    " | & | &  & |\\\\\n",
    " g_1 & g_2 & ... & g_p\\\\\n",
    " | & | &  &|\n",
    "\\end{pmatrix}\\begin{pmatrix}\n",
    " \\lambda_1 & 0 & ... & 0  \\\\\n",
    " 0 & \\lambda_2 &  & 0  \\\\\n",
    "  &  & ... &   \\\\\n",
    " 0 & 0 & ... & \\lambda_p  \n",
    "\\end{pmatrix}\\begin{pmatrix}\n",
    " - & g_1^T & -\\\\\n",
    " - & g_2^T & - \\\\\n",
    "  & ... & \\\\\n",
    " - & g_p^T & - \n",
    "\\end{pmatrix}  \\\\\n",
    "& = \\lambda _1g_1g_1^T + \\lambda _2g_2g_2^T + ... + \\lambda _pg_pg_p^T  \\\\\n",
    "& =  {\\textstyle \\sum_{i=1}^{p}} \\lambda _ig_ig_i^T  \\\\\n",
    "& 其中，G^TG =I_p, \\lambda_1>\\lambda_2>...>\\lambda_p\n",
    "\\end{align} \n",
    "$$"
   ]
  },
  {
   "cell_type": "markdown",
   "id": "e72d8e23",
   "metadata": {
    "ExecuteTime": {
     "end_time": "2023-11-23T07:31:26.646735Z",
     "start_time": "2023-11-23T07:31:26.634076Z"
    }
   },
   "source": [
    "3. **center matrix: H** \\\n",
    "取<font color=blue>$H=(I_n-\\frac{1}{n}1_n1_n^T)$</font>，有以下性质：\\\n",
    "<font color=red>a. $\\begin{align}\n",
    "& S = \\frac{1}{n}\\ {\\textstyle \\sum_{i=1}^{n}}(x-\\bar x)(x-\\bar x)^{T} = \\frac{1}{n}X^THX\n",
    "\\end{align}$ \\\n",
    "b. $H =H^T, H =H^2=H^n$ \\\n",
    "c. $HX=X-\\bar X$，因此，H称为center matrix\n",
    "</font>"
   ]
  },
  {
   "cell_type": "markdown",
   "id": "f16c9759",
   "metadata": {},
   "source": [
    "## III. 最大投影方差\n",
    "1. **性质：当w是单位向量时，$x^Tw=|x|·cos\\theta$是x在w方向上的投影长度。** \\\n",
    "<font color=orange>证明： \\\n",
    "根据几何性质：x在w方向上的投影大小(长度)是：$|x|·cos\\theta$，其中$\\theta$是向量x的方向与w方向的夹角。 \\\n",
    "根据内积特征：$x^Tw=|x|·|w|·cos\\theta$，当$|w|=1$时，$x^Tw=|x|·cos\\theta$ </font> "
   ]
  },
  {
   "cell_type": "markdown",
   "id": "5133ebee",
   "metadata": {},
   "source": [
    "2. **定义**：n个向量${x_1, x_2, ..., x_n}$在$w_k$方向上的投影方差记为$J_k$，有：$$\n",
    "J_k=\\frac{1}{n}\\ {\\textstyle \\sum_{i=1}^{n}}(x_i^Tw_k)^2 \n",
    "$$<font color=red>注：投影可能为正，也可能为负，最小投影方差用投影的平方来定义更合理</font>"
   ]
  },
  {
   "cell_type": "markdown",
   "id": "3612d355",
   "metadata": {},
   "source": [
    "3. **计算最小投影方差**：先去中心化(归一化)后再计算，$x_i'=x_i-\\bar x$ \\\n",
    "将X投影到向量$w_k$上，投影方差为：\n",
    "$$\\begin{align} \n",
    "J_k & =\\frac{1}{n}\\ {\\textstyle \\sum_{i=1}^{n}}(x_i^{'T}w_k)^2 \\\\\n",
    "& = \\frac{1}{n}\\ {\\textstyle \\sum_{i=1}^{n}}((x-\\bar x)^{T}w_k)^2 \\\\\n",
    "& = \\frac{1}{n}\\ {\\textstyle \\sum_{i=1}^{n}}((x-\\bar x)^{T}w_k)^T((x-\\bar x)^{T}w_k) \\\\\n",
    "& = \\frac{1}{n}\\ {\\textstyle \\sum_{i=1}^{n}}(w_k^{T}(x-\\bar x))((x-\\bar x)^{T}w_k) \\\\\n",
    "& = w_k^{T}(\\frac{1}{n}\\ {\\textstyle \\sum_{i=1}^{n}}(x-\\bar x)(x-\\bar x)^{T})w_k \\\\\n",
    "& = w_k^{T}Sw_k \\\\\n",
    "\\end{align} $$\n",
    "如果将X投影到任意K个w向量为坐标构成的空间上，则投影方差合计：\n",
    "$$\\begin{align} \n",
    "J & =  {\\textstyle \\sum_{k=1}^{K}} J(w_k) = {\\textstyle \\sum_{k=1}^{K}}w_k^{T}Sw_k  \\\\\n",
    "\\end{align}$$"
   ]
  },
  {
   "cell_type": "markdown",
   "id": "67a749f6",
   "metadata": {},
   "source": [
    "5. **求解产生最大投影方差的方向** \\\n",
    "思路: 转化为优化问题 \\\n",
    "$$\\begin{align} \n",
    "&   \\hat w = \\underset{W}{argmax}\\ J(W) =\\underset{w_1, ..., w_K}{argmax}\\  {\\textstyle \\sum_{k=1}^{K}} w_k^TSw_k \\\\\n",
    "&  s.t\\ \\ w_k^Tw_k= 1, \\ k = 1, 2, ..., K\n",
    "\\end{align}$$ \\\n",
    "$$\\begin{align} \n",
    "构建拉格朗日方程：& L(W, \\lambda ) = \\  {\\textstyle \\sum_{k=1}^{K}} w_k^TSw_k +  {\\textstyle \\sum_{k=1}^{K}} \\lambda_k(1- w_k^Tw_k) \\\\\n",
    " \\\\\n",
    "求解最优化：& \\frac{\\partial L}{\\partial w_k} = 2Sw_k-2\\lambda w_k = 0 \\\\\n",
    "即： & (S-\\lambda_k I)w_k  = 0 \\\\\n",
    "解必然满足：& \\lambda_k 是S的特征值，w_k是S的特征向量。\n",
    "\\end{align}$$ \\\n",
    "又，$$\n",
    "\\begin{align} \n",
    "& \\because S = {\\textstyle \\sum_{i=1}^{p}} \\lambda _ig_ig_i^T \\\\\n",
    "& \\therefore J(g_j) = g_jSg_j^T = \\lambda _j \\\\\n",
    "& \\therefore \\hat W = argmax\\ J(W) = (g_1, g_2, ..., g_K)，是S最大的K个特征值的特征向量  \\\\\n",
    "& 此时，J(w)=\\lambda_1 + \\lambda_2 + ...+ \\lambda_K\n",
    "\\end{align}$$\n",
    "**结论：** \\\n",
    "<font color=blue>a.假如原x是p维，降维就是从样本方差矩阵S的特征值$\\lambda_1, \\lambda_2, ..., \\lambda_p$中找最大的K个特征值，用他们对应的特征向量做为基，构建新的特征空间。\\\n",
    "b.向量$x_i^{'}$在新空间上的坐标是$x_i^{'T}W$，也就是$x_i^{'}$在各个基向量$g_k$上的投影长度。\\\n",
    "c.得到的投影向量有最大投影方差。</font>"
   ]
  },
  {
   "cell_type": "markdown",
   "id": "95fd93ff",
   "metadata": {},
   "source": [
    "## IV. 最小重构代价"
   ]
  },
  {
   "cell_type": "markdown",
   "id": "1573277f",
   "metadata": {},
   "source": [
    "1. **性质：w是单位向量时，$x^Tww=|x|·cos\\theta·w$是x在w方向上的投影。** \\\n",
    "<font color=orange>证明略：同前文</font>"
   ]
  },
  {
   "cell_type": "markdown",
   "id": "2d107a61",
   "metadata": {},
   "source": [
    "2. **坐标变换** \\\n",
    "假如x是任意p维向量，在以p个线性无关的向量${u_1, u_2, ..., u_p}$为基的坐标系下，x可以表达为：$$x_i =  {\\textstyle \\sum_{k=1}^{p}}(x_i^Tu_k)u_k$$\n",
    "在标准坐标系下，$(u_1, u_2, ..., u_p)=(e_1, e_2, ..., e_p)$，此时，$$x_i=x_i$$"
   ]
  },
  {
   "cell_type": "markdown",
   "id": "31c4a4e6",
   "metadata": {},
   "source": [
    "3. **最小重构代价** \\\n",
    "如果$q<p$，在以${u_1, u_2, ..., u_q}$为基的q维空间中找向量$x_i$在该空间的投影$ \\hat x_i$，有$$ \\hat x_i ={\\textstyle \\sum_{k=1}^{q}}(x_i^Tu_k)u_k$$\n",
    "如果用$\\hat x_i$作为$x_i$的近似值，则两者的差异：$$\n",
    "J_i =\\left \\| x_i-\\hat x_i \\right \\| ^2$$\n",
    "如果先做归一化，则：$$\\begin{align} \n",
    "J_i & =\\left \\| x_i^{'}-\\hat {x_i^{'}} \\right \\| ^2 \\\\\n",
    "& = \\left \\| {\\textstyle \\sum_{k=1}^{p}}(x_i^{'T}u_k)u_k - {\\textstyle \\sum_{k=1}^{q}}(x_i^{'T}u_k)u_k \\right \\| ^2 \\\\\n",
    "& = \\left \\| {\\textstyle \\sum_{k=q+1}^{p}}(x_i^{'T}u_k)u_k \\right \\| ^2 \\\\\n",
    "& = {\\textstyle \\sum_{k=q+1}^{p}}((x_i^{'T}u_k)u_k)^T((x_i^{'T}u_k)u_k)，这里x_i^{'T}u_k是scalar \\\\\n",
    "& = {\\textstyle \\sum_{k=q+1}^{p}}(x_i^{'T}u_k)^2(u_k^Tu_k)，这里u_k是单位向量 \\\\\n",
    "& = {\\textstyle \\sum_{k=q+1}^{p}}(x_i^{'T}u_k)^2\n",
    "\\end{align}$$\n",
    "对所有X中的n个向量${x_1, x_2, ..., X_n}$都用投影做估计，则合计的平均差异是：\\\n",
    "$$\\begin{align} \n",
    "J& = \\frac{1}{n} {\\textstyle \\sum_{i=1}^{n}}J_i \\\\\n",
    "& = \\frac{1}{n}  {\\textstyle \\sum_{i=1}^{n}}{\\textstyle \\sum_{k=q+1}^{p}}(x_i^{'T}u_k)^2 \\\\\n",
    "& = {\\textstyle \\sum_{k=q+1}^{p}}(\\frac{1}{n}  {\\textstyle \\sum_{i=1}^{n}}(x_i^{'T}u_k)^2) \\\\\n",
    "& = {\\textstyle \\sum_{k=q+1}^{p}} u_k^TSu_k\n",
    "\\end{align}\n",
    "$$"
   ]
  },
  {
   "cell_type": "markdown",
   "id": "67c8c05f",
   "metadata": {},
   "source": [
    "4. **计算最小重构代价的方向** \\\n",
    "转化成最优化问题： \\\n",
    "$$\\begin{cases}\n",
    "\\hat U = argmin\\ J(U) = \\underset {u_{q+1}, ..., u_p}{argmin}\\ {\\textstyle \\sum_{k=q+1}^{p}} u_k^TSu_k\\\\\n",
    "s.t \\ \\ u_k^Tu_k=1\n",
    "\\end{cases}$$"
   ]
  },
  {
   "cell_type": "markdown",
   "id": "f774347f",
   "metadata": {},
   "source": []
  }
 ],
 "metadata": {
  "kernelspec": {
   "display_name": "Python 3 (ipykernel)",
   "language": "python",
   "name": "python3"
  },
  "language_info": {
   "codemirror_mode": {
    "name": "ipython",
    "version": 3
   },
   "file_extension": ".py",
   "mimetype": "text/x-python",
   "name": "python",
   "nbconvert_exporter": "python",
   "pygments_lexer": "ipython3",
   "version": "3.10.12"
  }
 },
 "nbformat": 4,
 "nbformat_minor": 5
}
