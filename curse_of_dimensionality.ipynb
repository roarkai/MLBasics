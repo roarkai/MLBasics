{
 "cells": [
  {
   "cell_type": "markdown",
   "id": "e4f49887",
   "metadata": {},
   "source": [
    "# Curse of dimensionality\n",
    "1. 两种等价表达：\n",
    "   1. 在高维空间中, 大多数randomly chosen vectors都有接近的lengths。\n",
    "   2. 在高维空间中, 大多数randomly chosen vectors都集中在sphere surface附近。"
   ]
  },
  {
   "cell_type": "markdown",
   "id": "d90f1379",
   "metadata": {},
   "source": [
    "2. 典型例子分析：\n",
    "   - x是随机向量，有D维，每个维度上的$x_k\\sim N(0,1)$.\n",
    "   - 那么一个样本x的长度：$L^2 = x_i^2 + x_2^2 + ... + x_D^2$\n",
    "     - $L^2\\sim \\chi ^2(D)$，所以$E(L^2)=D, Var(L^2)=2D$\n",
    "     - $E(L)$不好直接计算，但可以估算：\n",
    "       - 根据Jensen's inequality,$E(L)=E(\\sqrt{\\Sigma x_k^2})$,square root是凹函数，因此$E(L)\\le \\sqrt{E(\\Sigma_k x_k^2)}=\\sqrt{D}$\n",
    "       - [claude提示]当D很大时，$E(L)\\approx \\sqrt{D-\\frac{1}{2}}$\n",
    "     - $Var(L)=E(L^2)-(EL)^2$,当D很大时，$Var(L)\\approx \\frac{1}{2}$"
   ]
  },
  {
   "cell_type": "markdown",
   "id": "d7fa7ba9",
   "metadata": {},
   "source": [
    "3. 结论：\n",
    "   1. 维度D很大时，向量长度的均值大约是$\\sqrt{D-\\frac{1}{2}}$。\n",
    "   2. 方差是一个很小的值，在0.5附近。因此实际向量的长度分布会集中在均值附近。\n",
    "   3. sphere surface也就是以均值为半径的超球体的surface"
   ]
  },
  {
   "cell_type": "markdown",
   "id": "4a1919fe",
   "metadata": {},
   "source": []
  },
  {
   "cell_type": "markdown",
   "id": "d11767e6",
   "metadata": {},
   "source": []
  },
  {
   "cell_type": "markdown",
   "id": "12b0e7fb",
   "metadata": {},
   "source": []
  }
 ],
 "metadata": {
  "kernelspec": {
   "display_name": "Python 3 (ipykernel)",
   "language": "python",
   "name": "python3"
  },
  "language_info": {
   "codemirror_mode": {
    "name": "ipython",
    "version": 3
   },
   "file_extension": ".py",
   "mimetype": "text/x-python",
   "name": "python",
   "nbconvert_exporter": "python",
   "pygments_lexer": "ipython3",
   "version": "3.10.12"
  }
 },
 "nbformat": 4,
 "nbformat_minor": 5
}
