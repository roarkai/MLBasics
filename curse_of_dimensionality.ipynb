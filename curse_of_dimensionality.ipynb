{
 "cells": [
  {
   "cell_type": "markdown",
   "id": "e4f49887",
   "metadata": {},
   "source": [
    "# Curse of dimensionality\n",
    "1. 表达：在高维空间中, most randomly chosen vectors tend to have similar lengths, clustering around a particular value. \n",
    "2. 要点： \\\n",
    "(1)As the number of dimensions increases, the distribution of vector lengths becomes more concentrated around the mean. \\\n",
    "(2)注意，不是说所有vector真的有完全相同的长度, 而是a large proportion of vectors have lengths very close to each other.也就是说the relative difference between vector lengths becomes smaller in higher dimensions."
   ]
  }
 ],
 "metadata": {
  "kernelspec": {
   "display_name": "Python 3 (ipykernel)",
   "language": "python",
   "name": "python3"
  },
  "language_info": {
   "codemirror_mode": {
    "name": "ipython",
    "version": 3
   },
   "file_extension": ".py",
   "mimetype": "text/x-python",
   "name": "python",
   "nbconvert_exporter": "python",
   "pygments_lexer": "ipython3",
   "version": "3.10.14"
  }
 },
 "nbformat": 4,
 "nbformat_minor": 5
}
