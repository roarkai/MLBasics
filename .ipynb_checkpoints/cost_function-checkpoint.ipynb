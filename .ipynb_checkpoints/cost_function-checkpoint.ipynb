{
 "cells": [
  {
   "cell_type": "markdown",
   "id": "95981911",
   "metadata": {},
   "source": [
    "# Cost Functions\n",
    "<font color=red>**分类问题的求解框架**\n",
    "$$\n",
    "input \\rightarrow  feature\\ extraction(representation) \\rightarrow classifier \\underset{optimization}{\\rightarrow}  cost function\n",
    "$$</font>"
   ]
  },
  {
   "cell_type": "markdown",
   "id": "2f47e7e3",
   "metadata": {},
   "source": [
    "## I. 常见的cost function形式\n",
    "1. 基于概率 \\\n",
    "(1) MLE中用的likelihood \\\n",
    "(2) KL divergence/Cross Entropy \\\n",
    "(3) LSE中用的square error \\\n",
    "(4) probability based classifier中用的error rate/accuracy \\\n",
    "(5) NLP中常用的perplexity，precision和recall\n",
    "2. 非概率 \\\n",
    "(1) svm中用的margin \\\n",
    "(2) Nearest Neighbor中用的distance"
   ]
  },
  {
   "cell_type": "markdown",
   "id": "971ba55b",
   "metadata": {},
   "source": [
    "## II. 如何选择cost funtion"
   ]
  },
  {
   "cell_type": "markdown",
   "id": "3bc19421",
   "metadata": {},
   "source": [
    "## III. cost funtions之间的关系\n",
    "### 3.1 KL-divergence, CE与MLE的等价关系\n",
    "1. 设定：原分布P(x)未知，假设分布为Q(x，$\\theta$)，简记为$Q_\\theta(x)$，试图用Q(x$\\theta$)逼近真实分布P(x)"
   ]
  },
  {
   "cell_type": "markdown",
   "id": "6f780bed",
   "metadata": {},
   "source": [
    "2. 公式定义: \\\n",
    "(1)Likelihood\n",
    "$$\n",
    "\\begin{align}\n",
    "L(Q_\\theta)=P(X;Q_\\theta )=\\prod_{i=1}^{N}P(x_i;Q_\\theta )\n",
    "\\end{align}\n",
    "$$\n",
    "(2)Cross Entropy\n",
    "$$\n",
    "\\begin{align}\n",
    "H(P,Q_\\theta)\n",
    "&=E_{P(x)}[log\\frac{1}{Q_\\theta(x)} ]\n",
    "\\end{align}$$\n",
    "(3)KL-Divergence\n",
    "$$\n",
    "\\begin{align}\n",
    "D_{KL}(P||Q)\n",
    "&=\\sum_{x}P(x)log\\frac{P(x)}{Q(x)} \\\\\n",
    "&=E_{P(x)}[log\\frac{1}{Q(x)} ]-E_{P(x)}[log\\frac{1}{P(x)} ]  \\\\\n",
    "&=H(P,Q)-H(P)\n",
    "\\end{align}\n",
    "$$\n"
   ]
  },
  {
   "cell_type": "markdown",
   "id": "62557615",
   "metadata": {},
   "source": [
    "3. 分析： \\\n",
    "(1) <font color=blue>**min CE与min KL-Divergence等价**</font>\n",
    "$$\n",
    "\\begin{align}\n",
    "\\underset{Q_\\theta }{argmin} D_{KL}(P||Q)\n",
    "&=\\underset{Q_\\theta}{argmin}E_{P(x)}[log\\frac{1}{Q_\\theta(x)} ]-E_{P(x)}[log\\frac{1}{P(x)} ]  \\\\\n",
    "&=\\underset{Q_\\theta}{argmin}E_{P(x)}[log\\frac{1}{Q_\\theta(x)} ]\\\\\n",
    "&=\\underset{Q_\\theta}{argmin}H(P,Q_\\theta)\n",
    "\\end{align}\n",
    "$$\n",
    "(2) <font color=blue>**min CE,min KL-Divergence与max MLE等价**</font>\n",
    "$$\n",
    "\\begin{align}\n",
    "\\underset{Q_\\theta}{argmin}E_{P(x)}[log\\frac{1}{Q_\\theta(x)} ]\n",
    "&=\\underset{Q_\\theta}{argmax}E_{P(x)}[logQ_\\theta(x) ] \\\\\n",
    "&=\\underset{Q_\\theta}{argmax}\\sum_{i=1}^{N}logQ(x_i;\\theta ) \n",
    "\\end{align}\n",
    "$$"
   ]
  },
  {
   "cell_type": "markdown",
   "id": "66c41a40",
   "metadata": {},
   "source": []
  },
  {
   "cell_type": "markdown",
   "id": "9d3b5cdb",
   "metadata": {},
   "source": []
  },
  {
   "cell_type": "markdown",
   "id": "e18746c1",
   "metadata": {},
   "source": []
  },
  {
   "cell_type": "markdown",
   "id": "e59e3820",
   "metadata": {},
   "source": []
  }
 ],
 "metadata": {
  "kernelspec": {
   "display_name": "Python 3 (ipykernel)",
   "language": "python",
   "name": "python3"
  },
  "language_info": {
   "codemirror_mode": {
    "name": "ipython",
    "version": 3
   },
   "file_extension": ".py",
   "mimetype": "text/x-python",
   "name": "python",
   "nbconvert_exporter": "python",
   "pygments_lexer": "ipython3",
   "version": "3.10.14"
  }
 },
 "nbformat": 4,
 "nbformat_minor": 5
}
