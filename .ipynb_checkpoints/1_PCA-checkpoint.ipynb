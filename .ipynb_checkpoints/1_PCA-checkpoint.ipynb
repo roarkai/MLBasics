{
 "cells": [
  {
   "cell_type": "markdown",
   "id": "b1d00a2e",
   "metadata": {},
   "source": [
    "## I. 核心思想\n",
    "\n",
    "1. 核心思想：将一组可能线性相关的向量，通过正交变换，转换城维度更小的线性无关的向量。\n",
    "2. 本质：特征空间重构\n",
    "3. 解法：**最大投影方差**和**最小重构距离** [不同但数学上等价] \\\n",
    "思路：找原向量具有最大投影方差的方向作为新的特征空间的基。此时，原向量到它们各自在新基上的投影的距离最小。这也意味着，假如将“距离”视为“重构代价”的话，用这些投影，也就是降维后的数据重构原数据的“重构代价”最小。"
   ]
  },
  {
   "cell_type": "markdown",
   "id": "7552ed4e",
   "metadata": {},
   "source": [
    "## II. 求解最大投影方差\n",
    "1. **性质：当w是单位向量时，$x^Tw=|x|·cos\\theta$是x在w方向上的投影。** \\\n",
    "<font color=orange>证明： \\\n",
    "根据几何性质：x在w方向上的投影大小(长度)是：$|x|·cos\\theta$，其中$\\theta$是向量x的方向与w方向的夹角。 \\\n",
    "根据内积特征：$x^Tw=|x|·|w|·cos\\theta$，当$|w|=1$时，$x^Tw=|x|·cos\\theta$ </font>\n",
    "\n",
    "2. **定义**：n个向量${x_1, x_2, ..., x_n}$投影方差记为$J$，有：$$\n",
    "J=\\frac{1}{n}\\ {\\textstyle \\sum_{i=1}^{n}}(x_i^Tw)^2 \n",
    "$$<font color=red>注：投影可能为正，也可能为负，最小投影方差用投影的平方来定义更合理</font>\n",
    "\n",
    "3. **计算最小投影方差**：先去中心化(归一化)后再计算，$x_i'=x_i-\\bar x$\n",
    "\\begin{align} \n",
    "J & =\\frac{1}{n}\\ {\\textstyle \\sum_{i=1}^{n}}(x_i^{'T}w)^2 \\\\\n",
    "& = \\frac{1}{n}\\ {\\textstyle \\sum_{i=1}^{n}}((x-\\bar x)^{T}w)^2 \\\\\n",
    "& = \\frac{1}{n}\\ {\\textstyle \\sum_{i=1}^{n}}((x-\\bar x)^{T}w)^T((x-\\bar x)^{T}w) \\\\\n",
    "& = \\frac{1}{n}\\ {\\textstyle \\sum_{i=1}^{n}}(w^{T}(x-\\bar x))((x-\\bar x)^{T}w) \\\\\n",
    "& = w^{T}[\\frac{1}{n}\\ {\\textstyle \\sum_{i=1}^{n}}(x-\\bar x)(x-\\bar x)^{T}]w \\\\\n",
    "& = w^{T}Sw \\\\\n",
    "其中，S & = \\frac{1}{n}\\ {\\textstyle \\sum_{i=1}^{n}}(x-\\bar x)(x-\\bar x)^{T}，是样本方差矩阵\n",
    "\\end{align}\n",
    "\n",
    "4. **center matrix：<font color=blue>$H=(I_n-\\frac{1}</font>{n}1_n1_n^T)$** \n",
    "$$\\begin{align}\n",
    "& S = \\frac{1}{n}\\ {\\textstyle \\sum_{i=1}^{n}}(x-\\bar x)(x-\\bar x)^{T} = \\frac{1}{n}X^THX\n",
    "\\end{align}$$\n",
    "<font color=red>性质：\\\n",
    "a. $H =H^T, H =H^2=H^n$ \\\n",
    "b. $HX=X-\\bar X$，因此，H称为center matrix</font>"
   ]
  },
  {
   "cell_type": "markdown",
   "id": "80210841",
   "metadata": {},
   "source": [
    "1. 中心化：\n",
    "2. "
   ]
  },
  {
   "cell_type": "markdown",
   "id": "f40116fe",
   "metadata": {},
   "source": [
    "### II.3 求解过程\n",
    "步骤：\n"
   ]
  },
  {
   "cell_type": "markdown",
   "id": "de1ee341",
   "metadata": {},
   "source": [
    "## III. 求解最小投影距离"
   ]
  },
  {
   "cell_type": "markdown",
   "id": "3f5051ed",
   "metadata": {},
   "source": []
  },
  {
   "cell_type": "markdown",
   "id": "0275f60e",
   "metadata": {},
   "source": []
  },
  {
   "cell_type": "markdown",
   "id": "a5f4abf6",
   "metadata": {},
   "source": []
  },
  {
   "cell_type": "markdown",
   "id": "15c62262",
   "metadata": {},
   "source": []
  },
  {
   "cell_type": "markdown",
   "id": "c4a49411",
   "metadata": {},
   "source": []
  }
 ],
 "metadata": {
  "kernelspec": {
   "display_name": "Python 3 (ipykernel)",
   "language": "python",
   "name": "python3"
  },
  "language_info": {
   "codemirror_mode": {
    "name": "ipython",
    "version": 3
   },
   "file_extension": ".py",
   "mimetype": "text/x-python",
   "name": "python",
   "nbconvert_exporter": "python",
   "pygments_lexer": "ipython3",
   "version": "3.10.12"
  }
 },
 "nbformat": 4,
 "nbformat_minor": 5
}
