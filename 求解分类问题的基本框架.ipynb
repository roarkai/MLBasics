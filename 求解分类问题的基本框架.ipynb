{
 "cells": [
  {
   "cell_type": "markdown",
   "id": "d890edb8",
   "metadata": {},
   "source": [
    "# I. 处理分类问题的基本方法"
   ]
  },
  {
   "cell_type": "markdown",
   "id": "45c2db00",
   "metadata": {},
   "source": [
    "## 1.1 问题类型可以分为：无监督学习和有监督学习\n",
    "1. 无监督学习\n",
    "|       | probabilistic     | non-probabilistic  |\n",
    "| -------- | -------- | -------- |\n",
    "| claustering | GMM | k-means  |\n",
    "| subspaces | FA、EM | PCA |"
   ]
  },
  {
   "cell_type": "markdown",
   "id": "33deac54",
   "metadata": {},
   "source": [
    "2. 有监督学习\n",
    "|       | probabilistic     | non-probabilistic  |\n",
    "| -------- | -------- | -------- |\n",
    "| classification | Discriminative \\\\ Generative | SVM、perceptron、NN不用softmax  |\n",
    "| regression | - | - |"
   ]
  },
  {
   "cell_type": "markdown",
   "id": "499cf7b0",
   "metadata": {},
   "source": [
    "<font color=blue>分类问题如果线性可分，用perceptron model。但实践中基本都是线性不可分问题，此时就要用MLP(multi-layer perceptron)来求解。</font>"
   ]
  },
  {
   "cell_type": "markdown",
   "id": "b93497ad",
   "metadata": {},
   "source": [
    "## 1.2 分类问题的求解框架\n",
    "$$\n",
    "input \\rightarrow  feature\\ extraction(representation) \\rightarrow classifier \\underset{optimization}{\\rightarrow}  cost function\n",
    "$$"
   ]
  },
  {
   "cell_type": "markdown",
   "id": "0af38a0e",
   "metadata": {},
   "source": [
    "## 1.3 求解概率分类问题的最优分类器：Bayes classifer\n",
    "bayes classifier不涉及$P(y|x)$的具体形式，所以对discriminative和generative classifier都适用。\n",
    "### 1.3.1 贝叶斯分类器的定义\n",
    "1. 设定：\\\n",
    "(1)分类问题：$x\\in R^d,y\\in \\{1, ..., K\\}$,classifier c(x)为映射：$R^d\\rightarrow\\{1, ..., K\\}$ \\\n",
    "(2)概率分布：似然$P(x|y=k)$,先验$P(y=k)=\\phi_k, {\\textstyle \\sum_{k=1}^{K}}\\phi_k=1$ \\\n",
    "(3)定义classifier c在已知x取值条件下的错误率为：$R(c_x)=R(c(x))=P(C(x)\\ne y)$ "
   ]
  },
  {
   "cell_type": "markdown",
   "id": "7c49f789",
   "metadata": {},
   "source": [
    "2. 定义Bayes Classifier：$c_B(x)=\\underset{k\\in \\{1, ..., K\\}}{argmax} P(y=k|x)$ \\\n",
    "<font color=red>**含义：给定x，bayes classifier是使后验概率$P(y=k|x)$最大的分类器。**</font> \\\n",
    "以二分类问题为例，取$y\\in \\{0, 1\\}$,则\n",
    "$$c_B(x)= \\left\\{\\begin{matrix}\n",
    "1  &if,p(y=1|x)\\ge p(y=0|x)  \\\\\n",
    "0  &if,p(y=1|x)<  p(y=0|x) \n",
    "\\end{matrix}\\right.$$"
   ]
  },
  {
   "cell_type": "markdown",
   "id": "eb2c2e82",
   "metadata": {},
   "source": [
    "3. <font color=blue>**bayes classifier只有理论价值，因为一般的问题中，$p(y|x)$是未知的，所以无法直接使用bayes classifier。**</font>"
   ]
  },
  {
   "cell_type": "markdown",
   "id": "3f7a2cae",
   "metadata": {},
   "source": [
    "### 1.3.2 性质：如果知道feature的概率分布，那么贝叶斯分类器能最小化misclassification的概率。"
   ]
  },
  {
   "cell_type": "markdown",
   "id": "427d9b9f",
   "metadata": {},
   "source": [
    "<font color=green>**以二分类问题为例的证明：$c_B$的error rate$R(c_B)$是所有分类器中最小的**</font>"
   ]
  },
  {
   "cell_type": "markdown",
   "id": "6e1f8a14",
   "metadata": {},
   "source": [
    "取$\\eta(x)=P(y=1|x)$,则$$\n",
    "\\begin{align}\n",
    " R(c_x)&=P(C(x)\\ne y)\\\\\n",
    "&= \\left\\{\\begin{matrix}\n",
    "P(y=0|x)  & if, c(x)=1 \\\\\n",
    "P(y=1|x)  & if, c(x)=0 \n",
    "\\end{matrix}\\right.\\\\\n",
    "&=\\left\\{\\begin{matrix}\n",
    "1-\\eta(x)  &if,c(x) & = 1 \\\\\n",
    "\\eta(x)  &if,c(x) & = 0\n",
    "\\end{matrix}\\right.  \\\\\n",
    "\\end{align}\n",
    "$$"
   ]
  },
  {
   "cell_type": "markdown",
   "id": "0f9d6585",
   "metadata": {},
   "source": [
    "尽管$\\eta(x)$未知，但是它是由分布给定的，所以$R(c_x)$有下界：\n",
    "$$\n",
    "minR(c_x)=min((1-\\eta(x)), \\eta(x))\n",
    "$$\n",
    "<img src=\"./pics/bayes_classifier_pic1.jpg\" style=\"zoom:40%\">\n",
    "因此，只要分类器能处处取到$minR(c_x)$，该分类器就是最优分类器。"
   ]
  },
  {
   "cell_type": "markdown",
   "id": "367d9cec",
   "metadata": {},
   "source": [
    "根据$c_B$的定义:$$\n",
    "\\begin{align}\n",
    "c_B(x)\n",
    "&= \\left\\{\\begin{matrix}\n",
    "1  &if,p(y=1|x)\\ge p(y=0|x)  \\\\\n",
    "0  &if,p(y=1|x)<  p(y=0|x) \n",
    "\\end{matrix}\\right.\\\\\n",
    "&= \\left\\{\\begin{matrix}\n",
    "1  &if,\\eta(x)\\ge 1-\\eta(x)  \\\\\n",
    "0  &if,\\eta(x)< 1-\\eta(x)\n",
    "\\end{matrix}\\right.  \\\\\n",
    "\\end{align}\n",
    "$$"
   ]
  },
  {
   "cell_type": "markdown",
   "id": "3adcd5f0",
   "metadata": {},
   "source": [
    "此时有：$$\n",
    "\\begin{align}\n",
    "R(c_B)\n",
    "&= \\left\\{\\begin{matrix}\n",
    "p(y=0|x)  &if,p(y=1|x)\\ge p(y=0|x)  \\\\\n",
    "p(y=1|x)  &if,p(y=1|x)<  p(y=0|x) \n",
    "\\end{matrix}\\right.\\\\\n",
    "&= \\left\\{\\begin{matrix}\n",
    "1-\\eta(x)  &if,1-\\eta(x)\\le \\eta(x) \\\\\n",
    "\\eta(x)  &if,1-\\eta(x)> \\eta(x)\n",
    "\\end{matrix}\\right.  \\\\\n",
    "&=minR(c_x)\n",
    "\\end{align}\n",
    "$$"
   ]
  },
  {
   "cell_type": "code",
   "execution_count": null,
   "id": "e1842551",
   "metadata": {},
   "outputs": [],
   "source": []
  },
  {
   "cell_type": "markdown",
   "id": "24a1609c",
   "metadata": {},
   "source": [
    "<font color=green>**以二分类问题为例的证明：取$\\bar R(c)$为正确率的期望，即$\\bar R(c)= 1-R(c)$，则$\\bar R(c_B)=max\\bar R(c)$**</font> "
   ]
  },
  {
   "cell_type": "markdown",
   "id": "c8e28c2a",
   "metadata": {},
   "source": [
    "1. 补充定义classifer c的错误率：$R(c)=E_{(x,y)}1\\{c(x)\\ne y\\}$，即，用$R(c_x)$的期望值来衡量分类器的错误率。\n",
    "如果用错误率的期望来衡量分类器的整体错误率，则：$$\n",
    "\\begin{align*}\n",
    "R(c)\n",
    "&=E_{(x,y)}1\\{c(x)\\ne y\\} \\\\\n",
    "&=E_xE_{y|x}1\\{c(x)\\ne y\\}\\\\\n",
    "&=E_x[ {\\textstyle \\sum_{y|x}}P(y|x)*1\\{c(x)\\ne y\\} ]\\\\\n",
    "&=E_x[ P(y=0|x)*1\\{c(x)=1\\} + P(y=1|x)*1\\{c(x)=0\\}]\n",
    "\\end{align*}\n",
    "$$"
   ]
  },
  {
   "cell_type": "markdown",
   "id": "cc900e17",
   "metadata": {},
   "source": [
    "取$\\eta(x)=P(y=1|x)$,则：\n",
    "$$\n",
    "\\begin{align*}\n",
    "E[R(c)] \n",
    "&=E_x[ (1-\\eta(x))*1\\{c(x)=1\\} + \\eta(x)*1\\{c(x)=0\\}]\\\\\n",
    "&=E_{x:c(x)=1}[1-\\eta(x)]+E_{x:c(x)=0}[\\eta(x)]\n",
    "\\end{align*}\n",
    "$$"
   ]
  },
  {
   "cell_type": "markdown",
   "id": "d7158a95",
   "metadata": {},
   "source": []
  },
  {
   "cell_type": "markdown",
   "id": "82a88dee",
   "metadata": {},
   "source": []
  },
  {
   "cell_type": "markdown",
   "id": "e58e259f",
   "metadata": {},
   "source": []
  },
  {
   "cell_type": "markdown",
   "id": "24ec31f8",
   "metadata": {},
   "source": []
  },
  {
   "cell_type": "markdown",
   "id": "219347fe",
   "metadata": {},
   "source": [
    "## 1.4 Generative model和Discriminative model\n",
    "### 1.4.1 **<font color=orange>Generative model</font>**\n",
    "1. 模型训练时：用贝叶斯分析方式对$𝑃(𝑦|𝑋)$做分解，转化为对先验分布$P(y_i;φ)$和似然$P(X|y_i;θ)$建模，用MLE或者CE做目标函数，求解参数θ。\\\n",
    "贝叶斯分析：\\\n",
    "$P(y_i|X) = \\frac{P(X|y_i)*P(y_i)}{P(X)} = \\frac{P(X|y_i)*P(y_i)}{Σ_{y_j\\in{Y}} P(X|y_j)*P(y_j)}$ \\\n",
    "求解MLE：\\\n",
    "$\\hat{θ}=\\underset{θ,φ}{argmax}\\ L(θ,φ) = \\underset{θ,φ}{argmax}\\ \\frac{P(X|y_i;θ)*P(y_i;φ)}{Σ_{y_j\\in{Y}} P(X|y_j;θ)*P(y_j;φ)}$\n",
    "2. 模型推理时：同样利用贝叶斯关系对目标函数做分析，求解优化函数。 \\\n",
    "利用贝叶斯分析： \\\n",
    "$\\hat{y}=\\underset{y}{argmax}P(y|X) = \\underset{y}{argmax}\\frac{P(X|y)*P(y)}{P(X)}$ \\\n",
    "<font color=red>由于y的取值与P(X)无关</font>，因此有：\\\n",
    "$\\hat{y}=\\underset{y}{argmax}\\ P(X|y;\\hat{θ})*P(y;\\hat{φ})=\\underset{y}{argmax}\\ P(X,y;\\hat{θ},\\hat{φ})$"
   ]
  },
  {
   "cell_type": "markdown",
   "id": "79a4dd99",
   "metadata": {},
   "source": [
    "### 1.4.2 **<font color=orange>Discriminative model</font>**\n",
    "1. 模型训练时：直接对$P(y|X)$的参数建模，用MLE或者CE做目标函数，求解参数θ:\n",
    "$\\hat{θ}=\\underset{θ}{argmax}\\ L(θ) = \\underset{θ}{argmax}\\ \\underset{i}{Σ}logP(y_{i}|X_{i};θ)$\n",
    "2. 模型推理时：直接用估计的条件概率分布求概率最大的类型： \\\n",
    "$\\hat{y}=\\underset{y}{argmax}P(y|X;\\hat{θ})$"
   ]
  },
  {
   "cell_type": "markdown",
   "id": "e7b8047b",
   "metadata": {},
   "source": []
  },
  {
   "cell_type": "markdown",
   "id": "64cbf84c",
   "metadata": {},
   "source": []
  },
  {
   "cell_type": "markdown",
   "id": "6d79ec19",
   "metadata": {},
   "source": []
  },
  {
   "cell_type": "markdown",
   "id": "34ef2ec7",
   "metadata": {},
   "source": []
  },
  {
   "cell_type": "markdown",
   "id": "3c2e468b",
   "metadata": {},
   "source": []
  },
  {
   "cell_type": "markdown",
   "id": "8c08923f",
   "metadata": {},
   "source": []
  },
  {
   "cell_type": "markdown",
   "id": "5fa54be8",
   "metadata": {},
   "source": []
  },
  {
   "cell_type": "markdown",
   "id": "040efd3c",
   "metadata": {},
   "source": []
  }
 ],
 "metadata": {
  "kernelspec": {
   "display_name": "Python 3 (ipykernel)",
   "language": "python",
   "name": "python3"
  },
  "language_info": {
   "codemirror_mode": {
    "name": "ipython",
    "version": 3
   },
   "file_extension": ".py",
   "mimetype": "text/x-python",
   "name": "python",
   "nbconvert_exporter": "python",
   "pygments_lexer": "ipython3",
   "version": "3.10.14"
  }
 },
 "nbformat": 4,
 "nbformat_minor": 5
}
