{
 "cells": [
  {
   "cell_type": "markdown",
   "id": "d890edb8",
   "metadata": {},
   "source": [
    "# 问题类型和对应解法"
   ]
  },
  {
   "cell_type": "markdown",
   "id": "45c2db00",
   "metadata": {},
   "source": [
    "## 1.1 问题类型可以分为：无监督学习和有监督学习\n",
    "1. 无监督学习\n",
    "|       | probabilistic     | non-probabilistic  |\n",
    "| -------- | -------- | -------- |\n",
    "| claustering | GMM | k-means  |\n",
    "| subspaces | FA、EM | PCA |"
   ]
  },
  {
   "cell_type": "markdown",
   "id": "33deac54",
   "metadata": {},
   "source": [
    "2. 有监督学习\n",
    "|       | probabilistic     | non-probabilistic  |\n",
    "| -------- | -------- | -------- |\n",
    "| classification | Discriminative \\\\ Generative | SVM、perceptron、NN不用softmax  |\n",
    "| regression | - | - |"
   ]
  },
  {
   "cell_type": "markdown",
   "id": "499cf7b0",
   "metadata": {},
   "source": [
    "<font color=blue>分类问题如果线性可分，用perceptron model。但实践中基本都是线性不可分问题，此时就要用MLP(multi-layer perceptron)来求解。</font>"
   ]
  },
  {
   "cell_type": "markdown",
   "id": "b93497ad",
   "metadata": {},
   "source": [
    "## 1.2 分类问题的求解框架\n",
    "$$\n",
    "input \\rightarrow  feature\\ extraction(representation) \\rightarrow classifier \\underset{optimization}{\\rightarrow}  cost function\n",
    "$$"
   ]
  },
  {
   "cell_type": "markdown",
   "id": "e7b8047b",
   "metadata": {},
   "source": []
  },
  {
   "cell_type": "markdown",
   "id": "64cbf84c",
   "metadata": {},
   "source": []
  },
  {
   "cell_type": "markdown",
   "id": "6d79ec19",
   "metadata": {},
   "source": []
  },
  {
   "cell_type": "markdown",
   "id": "34ef2ec7",
   "metadata": {},
   "source": []
  },
  {
   "cell_type": "markdown",
   "id": "3c2e468b",
   "metadata": {},
   "source": []
  },
  {
   "cell_type": "markdown",
   "id": "8c08923f",
   "metadata": {},
   "source": []
  },
  {
   "cell_type": "markdown",
   "id": "5fa54be8",
   "metadata": {},
   "source": []
  },
  {
   "cell_type": "markdown",
   "id": "040efd3c",
   "metadata": {},
   "source": []
  }
 ],
 "metadata": {
  "kernelspec": {
   "display_name": "Python 3 (ipykernel)",
   "language": "python",
   "name": "python3"
  },
  "language_info": {
   "codemirror_mode": {
    "name": "ipython",
    "version": 3
   },
   "file_extension": ".py",
   "mimetype": "text/x-python",
   "name": "python",
   "nbconvert_exporter": "python",
   "pygments_lexer": "ipython3",
   "version": "3.10.14"
  }
 },
 "nbformat": 4,
 "nbformat_minor": 5
}
