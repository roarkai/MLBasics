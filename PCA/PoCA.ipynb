{
 "cells": [
  {
   "cell_type": "markdown",
   "id": "fadfa22b",
   "metadata": {},
   "source": [
    "# PoCA"
   ]
  },
  {
   "cell_type": "markdown",
   "id": "01fb27c4",
   "metadata": {},
   "source": [
    "1. 什么是PCoA \\\n",
    "与PCA不同，PCoA是取$B=HXX^TH^T$，对B做谱分解$B=G_B\\Lambda_B G_B^T$，得到B的特征值和特征向量。$$\n",
    "\\begin{align} \n",
    "& \\because B=HXX^TH^T= U\\Sigma V^TV\\Sigma ^TU^T=U\\Sigma^2U^T \\\\\n",
    "& \\therefore G_B=U, \\Lambda_B=\\Sigma^2 \\\\\n",
    "& \\therefore (X-\\bar X)V=U\\Sigma=G_B\\Lambda_B^{\\frac{1}{2}} \n",
    "\\end{align}$$\n",
    "结论：可以用谱分解的结果直接得到原向量在新空间上的投影结果"
   ]
  },
  {
   "cell_type": "markdown",
   "id": "746e7716",
   "metadata": {},
   "source": [
    "2. PCoA与PCA的区别 \\\n",
    "i.从效果上看，取B做谱分解与取S做谱分解的区别在于，S做出来得到的特征向量是新空间的基。而B做出来得到的$G_B和\\Lambda_B$简单运算后可以直接得到原向量在新空间上的投影结果。\\\n",
    "ii.从成本上看，S是$p*p$维，PCA对S做谱分解的复杂度是$O(p^3)$，PCoA对B做谱分解，B是$n*n$维，复杂度是$O(n^3)$。所以当n<p时，用PCoA的计算效率更高。\\\n",
    "iii.PCoA也有它对应的SVD分解，SVD分解的计算复杂度也更低。只是此时是对$(HX)^T$做SVD。分析过程和前面PCA一样（略）\\\n",
    "<font color=blue>iv.总的来说，SVD的复杂度更低，用reduced SVD可以达到时间和空间复杂度都是$O(np*min(n, p))$，也就是对于n和p中较大的那个的线性复杂度。n>>p时用HX做SVD；p>>n时用$(HX)^T$做SVD。</font>"
   ]
  }
 ],
 "metadata": {
  "kernelspec": {
   "display_name": "Python 3 (ipykernel)",
   "language": "python",
   "name": "python3"
  },
  "language_info": {
   "codemirror_mode": {
    "name": "ipython",
    "version": 3
   },
   "file_extension": ".py",
   "mimetype": "text/x-python",
   "name": "python",
   "nbconvert_exporter": "python",
   "pygments_lexer": "ipython3",
   "version": "3.10.14"
  }
 },
 "nbformat": 4,
 "nbformat_minor": 5
}
