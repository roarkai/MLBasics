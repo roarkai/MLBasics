{
 "cells": [
  {
   "cell_type": "markdown",
   "id": "c170a249",
   "metadata": {},
   "source": [
    "# SVD分解"
   ]
  },
  {
   "cell_type": "markdown",
   "id": "3b2abc05",
   "metadata": {},
   "source": [
    "#### 3.2.1 SVD分解方式\n",
    "1. 任意矩阵A都可以分解为：$A=U\\Sigma V^T$。\\\n",
    "① U是$AA^T$的特征向量矩阵，V是$A^TA$的特征向量矩阵。 \\\n",
    "② $\\Sigma$是$A^TA$和$AA^T$的特征值的平方根，即$\\Sigma=\\Lambda_{AA^T}^{\\frac{1}{2}}=\\Lambda_{A^TA}^{\\frac{1}{2}}$\n",
    "$$\\begin{align} \n",
    "A_{m*n} & = U\\Sigma V^T \\\\\n",
    "&  =  \\begin{pmatrix}\n",
    " | & | &  & |\\\\\n",
    " u_1 & u_2 & ... & u_m\\\\\n",
    " | & | &  &|\n",
    "\\end{pmatrix}_{m*m}\\begin{pmatrix}\n",
    " \\sigma_1 & 0 & ... & 0& & 0 \\\\\n",
    " 0 & \\sigma_2 &  & 0& ...&0 \\\\\n",
    "  &  & ... &  & \\\\\n",
    " 0 & 0 & ... & \\sigma_r  &...&0 \\\\\n",
    "  &  & ... &  & &\\\\\n",
    "0  &  & ... & 0 & ...&0\n",
    "\\end{pmatrix}_{m*n}\\begin{pmatrix}\n",
    "－& v_1^T & －\\\\\n",
    "－& v_2^T &－ \\\\\n",
    "－& ... & \\\\\n",
    "－& v_n^T & － \n",
    "\\end{pmatrix}_{n*n}\n",
    "\\end{align}$$"
   ]
  },
  {
   "cell_type": "markdown",
   "id": "af264075",
   "metadata": {},
   "source": [
    "2. 去掉多余信息的SVD\n",
    "$$\\begin{align} \n",
    "A_{m*n} & = U\\Sigma V^T \\\\\n",
    "&  =  \\begin{pmatrix}\n",
    " | & | &  & |\\\\\n",
    " u_1 & u_2 & ... & u_r\\\\\n",
    " | & | &  &|\n",
    "\\end{pmatrix}_{m*r}\\begin{pmatrix}\n",
    " \\sigma_1 & 0 & ... & 0 \\\\\n",
    " 0 & \\sigma_2 &  & 0 \\\\\n",
    "  &  & ... &  & \\\\\n",
    " 0 & 0 & ... & \\sigma_r\n",
    "\\end{pmatrix}_{r*r}\\begin{pmatrix}\n",
    "－& v_1^T & －\\\\\n",
    "－& v_2^T &－ \\\\\n",
    "－& ... & \\\\\n",
    "－& v_r^T & － \n",
    "\\end{pmatrix}_{r*n} \\\\\n",
    "& = \\sigma_1u_1v_1^T + \\sigma_2u_2v_2^T + ... + \\sigma_ru_rv_r^T  \\\\\n",
    "& =  {\\textstyle \\sum_{i=1}^{r}} \\sigma_iu_iv_i^T\n",
    "\\end{align}$$"
   ]
  },
  {
   "cell_type": "markdown",
   "id": "284541d9",
   "metadata": {},
   "source": [
    "#### 3.2.2 SVD的几何理解\n",
    "从几何上看，$Ax=U\\Sigma V^Tx$可以分解成3步：\\\n",
    "(1)$V^Tx$做rotation：V是单位正交矩阵，所以该运算不改变x的长度。如果同时对x和y做该运算，也不改变x和y的夹角大小。\n",
    "$$(V^Tx)^T(V^Ty)=x^TVV^Ty=x^Ty$$\n",
    "(2)$\\Sigma (V^Tx)$做stretching：因为$\\Sigma$是对角矩阵，且对角线元素的值非负。此时，对角矩阵对向量的作用是在坐标轴的各个方向上做streching。\n",
    "$$\\Sigma z = \\begin{pmatrix}\n",
    " \\lambda_1 & 0 & ... & 0  \\\\\n",
    " 0 & \\lambda_2 &  & 0  \\\\\n",
    "  &  & ... &   \\\\\n",
    " 0 & 0 & ... & \\lambda_d  \n",
    "\\end{pmatrix}\\begin{pmatrix}\n",
    "z_1 \\\\\n",
    "z_2 \\\\\n",
    "... \\\\\n",
    "z_d\n",
    "\\end{pmatrix}=\\begin{pmatrix}\n",
    " \\lambda_1z_1 \\\\\n",
    " \\lambda_2z_2 \\\\\n",
    "... \\\\\n",
    " \\lambda_dz_d\n",
    "\\end{pmatrix}$$\n",
    "(3)$U(\\Sigma V^Tx)$做rotation，同前面$V^Tx$的作用"
   ]
  }
 ],
 "metadata": {
  "kernelspec": {
   "display_name": "Python 3 (ipykernel)",
   "language": "python",
   "name": "python3"
  },
  "language_info": {
   "codemirror_mode": {
    "name": "ipython",
    "version": 3
   },
   "file_extension": ".py",
   "mimetype": "text/x-python",
   "name": "python",
   "nbconvert_exporter": "python",
   "pygments_lexer": "ipython3",
   "version": "3.10.14"
  }
 },
 "nbformat": 4,
 "nbformat_minor": 5
}
