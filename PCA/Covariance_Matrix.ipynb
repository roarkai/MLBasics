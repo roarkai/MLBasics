{
 "cells": [
  {
   "cell_type": "markdown",
   "id": "c170a249",
   "metadata": {},
   "source": [
    "# 随机向量的协方差矩阵"
   ]
  },
  {
   "cell_type": "markdown",
   "id": "d9fda540-11a1-470e-9a70-ddf3174610a8",
   "metadata": {},
   "source": [
    "## I. 协方差矩阵的符号表示\n",
    "### 1.1 随机向量的表示\n",
    "1. 多维随机向量$X\\in R^d$，有n个样本，记为$x_i,i\\in \\{1, 2, ..., n\\}$。\n",
    "$$\n",
    "x_i = \\begin{pmatrix}\n",
    "x_{i1} \\\\\n",
    "x_{i2} \\\\\n",
    "... \\\\\n",
    "x_{id}\n",
    "\\end{pmatrix}\n",
    "$$"
   ]
  },
  {
   "cell_type": "markdown",
   "id": "dd9bc095",
   "metadata": {},
   "source": [
    "2. 随机向量的样本矩阵：\\\n",
    "<font color=red>按照pytorch中样本的排序方式。</font>\n",
    "$$\n",
    "X_{n*d} = \\begin{pmatrix}\n",
    "－& x_{1}^T & －\\\\\n",
    "－& x_{2}^T & －\\\\\n",
    "&  ...   &  \\\\\n",
    "－& x_{i}^T & －\\\\\n",
    "&  ...   & \\\\\n",
    "－& x_{n}^T & －  \n",
    "\\end{pmatrix}= \\begin{pmatrix}\n",
    " x_{11}, x_{12},..., x_{1j},..., x_{1d} \\\\\n",
    " x_{21}, x_{22},..., x_{2j},..., x_{2d} \\\\\n",
    "...  \\\\\n",
    " x_{i1}, x_{i2},..., x_{ij},..., x_{id} \\\\\n",
    "... \\\\\n",
    " x_{n1}, x_{n2},..., x_{nj},..., x_{nd} \n",
    "\\end{pmatrix}\n",
    "$$"
   ]
  },
  {
   "cell_type": "markdown",
   "id": "691e9705-ae4f-4b65-aa82-f8373443a7fa",
   "metadata": {},
   "source": [
    "### 1.2 随机变量(scalar)的方差和协方差\n",
    "$k,j\\in \\{1, 2, ..., d\\}$是x中两个不同维度的index。有$$\\begin{align}\n",
    "Var(X_k) &=E(X_k-E(X_k))^2   \\\\\n",
    "估计量：\\hat{Var}(X_k)&=\\frac{1}{n}{\\textstyle \\sum_{i=1}^{n}} (x_{ki}-\\bar x_k)^2 \\\\\n",
    "\\\\\n",
    "Cov(X_k, X_j) &= E(X_k-E(X_k))(X_j-E(X_j)) \\\\\n",
    "估计量：\\hat{Cov}(X_k,X_j)&= \\frac{1}{n}{\\textstyle \\sum_{i=1}^{n}} (x_{ki}-\\bar x_k)(x_{ji}-\\bar x_j)\\\\ \n",
    "\\end{align}$$"
   ]
  },
  {
   "cell_type": "markdown",
   "id": "24b4c5a4",
   "metadata": {},
   "source": [
    "### 1.3 随机向量的方差和协方差矩阵\n",
    "#### 1. 定义\n",
    "随机向量的协方差矩阵（covariance matrix）也称随机变量的方差（Variance of random vector x，记为：S"
   ]
  },
  {
   "cell_type": "markdown",
   "id": "ed96ed8e",
   "metadata": {},
   "source": [
    "$$\\begin{align}\n",
    "S_{n,d*d} & = \\begin{pmatrix}\n",
    " Var(X_1) & Cov(X_1,X_2)  &  ... & Cov(X_1,X_d)\\\\\n",
    " Cov(X_2,X_1) &  Var(X_2)  &  ... & Cov(X_2,X_d)\\\\\n",
    " ... &  ... &  ... & ...\\\\\n",
    " Cov(X_k,X_1) & Cov(X_k,X_2) &   ... & Cov(X_k,X_d)\\\\\n",
    " ... & ... &  ... & ...\\\\\n",
    " Cov(X_d,X_1) & Cov(X_d,X_2) & ... & Var(X_d)\n",
    "\\end{pmatrix}\\\\\n",
    "\\\\\n",
    "& = E\\begin{pmatrix}\n",
    " (X_1-EX_1)(X_1-EX_1) & (X_1-EX_1)(X_2-EX_2) &  ... & (X_1-EX_1)(X_d-EX_d)\\\\\n",
    " (X_2-EX_2)(X_1-EX_1) & (X_2-EX_2)(X_2-EX_2) &  ... & (X_2-EX_2)(X_d-EX_d)\\\\\n",
    " ... &  ... &  ... & ...\\\\\n",
    " (X_k-EX_k)(X_1-EX_1) & (X_k-EX_k)(X_2-EX_2) &   ... & (X_k-EX_k)(X_d-EX_d)\\\\\n",
    " ... & ... &  ... & ...\\\\\n",
    " (X_d-EX_d)(X_1-EX_1) & (X_d-EX_d)(X_2-EX_2) & ... & (X_d-EX_d)(X_d-EX_d)\n",
    "\\end{pmatrix}\\\\\n",
    "\\\\\n",
    "& = E\\left ( \\begin{pmatrix}\n",
    "(X_1-EX_1) \\\\\n",
    "(X_2-EX_2) \\\\\n",
    " ...\\\\\n",
    "(X_d-EX_d)\n",
    "\\end{pmatrix} * ((X_1-EX_1), (X_2-EX_2), ..., (X_d-EX_d))\\right ) \\\\\n",
    "\\\\\n",
    "& = E(X-EX)(X-EX)^T\n",
    "\\end{align}$$\n"
   ]
  },
  {
   "cell_type": "markdown",
   "id": "a6f0101b-e5e7-4129-bbc9-dbd3c7a67dba",
   "metadata": {},
   "source": [
    "#### 2. 统计量：样本方差矩阵\n",
    "$$\\begin{align}\n",
    "S_{(d*d)} & = \\begin{pmatrix}\n",
    "\\hat{Var}(X_1) & \\hat{Cov}(X_1,X_2)  &  ... & \\hat{Cov}(X_1,X_d)\\\\\n",
    "\\hat{Cov}(X_2,X_1) &   \\hat{Var}(X_2)  &  ... & \\hat{Cov}(X_2,X_d)\\\\\n",
    " &  ... &   & \\\\\n",
    "\\hat{Cov}(X_d,X_1) & \\hat{Cov}(X_d,X_2) & ... &  \\hat{Var}(X_d)\n",
    "\\end{pmatrix} \\\\\n",
    "\\\\\n",
    "& = \\frac{1}{n}{\\textstyle \\sum_{i}^{}}\\begin{pmatrix}\n",
    " (x_{1i}-\\bar x_1)(x_{1i}-\\bar x_1)&  (x_{1i}-\\bar x_1)(x_{2i}-\\bar x_2)  &  ... &(x_{1i}-\\bar x_1)(x_{di}-\\bar x_d)\\\\\n",
    " (x_{2i}-\\bar x_2)(x_{1i}-\\bar x_1)&  (x_{2i}-\\bar x_2)(x_{2i}-\\bar x_2)  &  ... &(x_{2i}-\\bar x_2)(x_{di}-\\bar x_d)\\\\\n",
    " ... &  ... &  ... & ...\\\\\n",
    " (x_{di}-\\bar x_d)(x_{1i}-\\bar x_1)& (x_{di}-\\bar x_d)(x_{2i}-\\bar x_2)  & ... & (x_{di}-\\bar x_d)(x_{di}-\\bar x_d)\n",
    "\\end{pmatrix}  \\\\\n",
    "\\\\\n",
    "& = \\frac{1}{n}{\\textstyle \\sum_{i}^{}}\\begin{pmatrix}\n",
    "(x_{1i}-\\bar x_1) \\\\\n",
    " (x_{2i}-\\bar x_2) \\\\\n",
    " ...\\\\\n",
    " (x_{di}-\\bar x_d)\n",
    "\\end{pmatrix}\\begin{pmatrix}\n",
    " (x_{1i}-\\bar x_1) &  (x_{2i}-\\bar x_2) & ... &  (x_{di}-\\bar x_d)\n",
    "\\end{pmatrix} \\\\\n",
    "\\\\\n",
    "& = \\frac{1}{n}{\\textstyle \\sum_{i}^{}}(x_i-\\bar x_i )_{(d*1)}(x_i-\\bar x_i)_{(1*d)}^T\\\\\n",
    "\\end{align}\n",
    "$$"
   ]
  },
  {
   "cell_type": "markdown",
   "id": "be851ec4",
   "metadata": {
    "ExecuteTime": {
     "end_time": "2023-11-23T07:31:26.646735Z",
     "start_time": "2023-11-23T07:31:26.634076Z"
    }
   },
   "source": [
    "### 1.4 center matrix: H\n",
    "取<font color=blue>$H=(I_n-\\frac{1}{n}1_n1_n^T)$</font>，有以下性质：\\\n",
    "⑴ <font color=green>$\\begin{align}\n",
    "& S = \\frac{1}{n}\\ {\\textstyle \\sum_{i=1}^{n}}(x_i-\\bar x)(x_i-\\bar x)^{T} = \\frac{1}{n}X^THX\n",
    "\\end{align}$ </font>\\\n",
    "⑵ $H =H^T, H =H^2=H^n$ \\\n",
    "⑶ $HX=X-\\bar X$，因此，H称为center matrix"
   ]
  },
  {
   "cell_type": "markdown",
   "id": "cdf09aed",
   "metadata": {},
   "source": [
    "### 1.5 零均值化处理\n",
    "1. 对X做零均值化得到：$\\tilde X = X-\\bar X = HX$\n",
    "2. $\\tilde X$的协方差矩阵仍然是S。\n",
    "$$\\begin{align}\n",
    "\\tilde S\n",
    "& = \\frac{1}{n}\\ {\\textstyle \\sum_{i  = 1}^{n}}(\\tilde x_i-0)(\\tilde x_i-0)^{T} \\\\\n",
    "& = \\frac{1}{n}\\ {\\textstyle \\sum_{i  = 1}^{n}}\\tilde x_i\\tilde x_i^{T} \\\\\n",
    "& = \\frac{1}{n}\\ {\\textstyle \\sum_{i  = 1}^{n}}(x_i-\\bar x)(x_i-\\bar x)^{T} \\\\\n",
    "& = S\n",
    "\\end{align}$$"
   ]
  },
  {
   "cell_type": "markdown",
   "id": "3de589f0",
   "metadata": {},
   "source": [
    "## II. 协方差矩阵的性质"
   ]
  },
  {
   "cell_type": "markdown",
   "id": "a6a29880",
   "metadata": {},
   "source": [
    "### 2.1 对称矩阵的性质：谱定理（4条）\n",
    "<font color=blue>对称矩阵(Symmetric matrix,简记为S)</font>\n",
    "1. S有n个实特征值\n",
    "2. 每个特征值$\\lambda_i$的特征子空间的维数 = $\\lambda_i$作为特征方程$Ax=\\lambda x$的根的重数。\n",
    "3. 不同特征值对应的特征子空间相互正交\n",
    "4. S可以正交对角化"
   ]
  },
  {
   "cell_type": "markdown",
   "id": "9ffc7405",
   "metadata": {},
   "source": [
    "### 2.2 随机向量(样本)的协方差矩阵的关键性质\n",
    "1. 关键性质一：**协方差矩阵是对阵矩阵** \\\n",
    "<font color=red>注意符号：下面S指样本方差矩阵，也就是前面的$S_n$</font>\n",
    "2. 关键性质二：**协方差矩阵是半正定矩阵** \\\n",
    "<font color=grey>提示：协方差矩阵都是$AA^T$形态的，很容易证明是半正定矩阵</font>"
   ]
  },
  {
   "cell_type": "markdown",
   "id": "bfd8cec6-0080-43f8-a4d0-317fa512f1b5",
   "metadata": {},
   "source": [
    "## III. 协方差矩阵的Factorization：谱分解\n",
    "<font color=blue>**S是p维对称矩阵, 可以正交对角化为：$S=Q\\Lambda Q^T$。**</font>\\\n",
    "⑴ $\\Lambda$是对角矩阵，对角线上的元素是S的特征值。Q是特征值对应的特征向量矩阵。 \\\n",
    "⑵ Q是正交单位矩阵 \\\n",
    "⑶ S经过谱分解为最多d个rank=1的矩阵之和。如果存在$\\lambda_i=0$，那么对应的$\\lambda_iq_iq_i^T=0$。"
   ]
  },
  {
   "cell_type": "markdown",
   "id": "382d1f87",
   "metadata": {},
   "source": [
    "$$\\begin{align} \n",
    "S_{d*d} & = Q^T\\Lambda Q \\\\\n",
    "&  =  \\begin{pmatrix}\n",
    " | & | &  & |\\\\\n",
    " q_1 & q_2 & ... & q_d\\\\\n",
    " | & | &  &|\n",
    "\\end{pmatrix}\\begin{pmatrix}\n",
    " \\lambda_1 & 0 & ... & 0  \\\\\n",
    " 0 & \\lambda_2 &  & 0  \\\\\n",
    "  &  & ... &   \\\\\n",
    " 0 & 0 & ... & \\lambda_d  \n",
    "\\end{pmatrix}\\begin{pmatrix}\n",
    "－& q_1^T & －\\\\\n",
    "－& q_2^T &－ \\\\\n",
    "－& ... & \\\\\n",
    "－& q_d^T & － \n",
    "\\end{pmatrix}  \\\\\n",
    "& = \\lambda _1q_1q_1^T + \\lambda _2q_2q_2^T + ... + \\lambda _dq_dq_d^T  \\\\\n",
    "& =  {\\textstyle \\sum_{i=1}^{d}} \\lambda _iq_iq_i^T  \\\\\n",
    "& 其中，Q^TQ =I_p, \\lambda_1>\\lambda_2>...>\\lambda_d\n",
    "\\end{align}$$"
   ]
  }
 ],
 "metadata": {
  "kernelspec": {
   "display_name": "Python 3 (ipykernel)",
   "language": "python",
   "name": "python3"
  },
  "language_info": {
   "codemirror_mode": {
    "name": "ipython",
    "version": 3
   },
   "file_extension": ".py",
   "mimetype": "text/x-python",
   "name": "python",
   "nbconvert_exporter": "python",
   "pygments_lexer": "ipython3",
   "version": "3.10.14"
  }
 },
 "nbformat": 4,
 "nbformat_minor": 5
}
