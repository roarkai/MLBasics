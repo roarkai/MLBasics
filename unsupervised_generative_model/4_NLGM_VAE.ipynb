{
 "cells": [
  {
   "cell_type": "markdown",
   "id": "9a4bb50d",
   "metadata": {},
   "source": [
    "# NLGM: non-linear Gaussian Model"
   ]
  },
  {
   "cell_type": "markdown",
   "id": "a66f4eb8",
   "metadata": {},
   "source": [
    "## I. 背景\n",
    "### I.1 LGM模型的限制 \n",
    "- 用Linear Gaussian Model解决生成任务时，有一个核心假设：$x = \\Lambda z + \\epsilon$，也就是说，样本随机变量是与latent varible之间是线性关系。\n",
    "  - 如下图所示：LGM可以表示上图的关系，但不能表示下面那张图。\n",
    "  <img src=\"../pics/fa_1D.png\" alt=\"alt text\" width=\"600\"/>\n",
    "  <img src=\"../pics/LGM_limitation.png\" alt=\"alt text\" width=\"600\"/>"
   ]
  },
  {
   "cell_type": "markdown",
   "id": "d41941cb",
   "metadata": {},
   "source": [
    "### I.2 解决思路\n",
    "1. 方法：\n",
    "   1. 放松LGM的线性假设，取$x = f(z) + \\epsilon$\n",
    "      - <img src=\"../pics/NLGM_generator.png\" alt=\"alt text\" width=\"600\"/>\n",
    "   2. 同时用neural network作为$f(z)$，这样就能learn到非常复杂的结构"
   ]
  },
  {
   "cell_type": "markdown",
   "id": "1e764b0d",
   "metadata": {},
   "source": [
    "2. 如何生成与样本分布一样的数据\n",
    "   - 作为generator的工作方式：从标准高斯分布中抽z，然后用f(z)将z投影到non-linear manifold上，最后加上高斯噪声。"
   ]
  },
  {
   "cell_type": "markdown",
   "id": "ebb56390",
   "metadata": {},
   "source": [
    "## NLGM\n",
    "### I.1 模型\n",
    "#### I.1 模型的假设条件\n",
    "$$\n",
    "\\begin{align}\n",
    "& x =f(z;W) + \\epsilon \\\\\n",
    "& z\\sim N(0, I_p) \\\\\n",
    "& \\epsilon \\sim N(0, \\Psi_d ) \\\\\n",
    "& \\epsilon与z相互独立\n",
    "\\end{align}\n",
    "$$\n",
    "  - 要learn的参数：神经网络中的参数$W, \\Psi_{d\\times 1}$"
   ]
  },
  {
   "cell_type": "markdown",
   "id": "8bcb9e07",
   "metadata": {},
   "source": []
  },
  {
   "cell_type": "markdown",
   "id": "7d384321",
   "metadata": {},
   "source": []
  },
  {
   "cell_type": "markdown",
   "id": "965ffed8",
   "metadata": {},
   "source": []
  }
 ],
 "metadata": {
  "kernelspec": {
   "display_name": "Python 3 (ipykernel)",
   "language": "python",
   "name": "python3"
  },
  "language_info": {
   "codemirror_mode": {
    "name": "ipython",
    "version": 3
   },
   "file_extension": ".py",
   "mimetype": "text/x-python",
   "name": "python",
   "nbconvert_exporter": "python",
   "pygments_lexer": "ipython3",
   "version": "3.10.12"
  }
 },
 "nbformat": 4,
 "nbformat_minor": 5
}
